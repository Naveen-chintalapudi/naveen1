{
 "cells": [
  {
   "cell_type": "code",
   "execution_count": 1,
   "id": "d4c4e69a",
   "metadata": {},
   "outputs": [
    {
     "name": "stdout",
     "output_type": "stream",
     "text": [
      "hii\n"
     ]
    }
   ],
   "source": [
    "print(\"hii\")"
   ]
  },
  {
   "cell_type": "code",
   "execution_count": null,
   "id": "8e2a1a67",
   "metadata": {},
   "outputs": [
    {
     "name": "stdout",
     "output_type": "stream",
     "text": [
      "86 is a positive\n"
     ]
    }
   ],
   "source": [
    "# 1. WAP to check whether a number is positive. If Positive, print a message Positive.\n",
    "\n",
    "num = int(input())\n",
    "if num > 0:\n",
    "    print(f\"{num} is a positive\")\n",
    "\n",
    "\n",
    "\n",
    "\n",
    "\n",
    "\n"
   ]
  },
  {
   "cell_type": "code",
   "execution_count": null,
   "id": "3bb30eaf",
   "metadata": {},
   "outputs": [],
   "source": [
    "# 2. WAP to display hello world if the number is greater than 1 and lesser than 5\n",
    "\n",
    "num = int(input())\n",
    "if 1<=num<=5:\n",
    "    print(\"hello world\")\n",
    "\n"
   ]
  },
  {
   "cell_type": "code",
   "execution_count": null,
   "id": "f8ca961a",
   "metadata": {},
   "outputs": [
    {
     "name": "stdout",
     "output_type": "stream",
     "text": [
      "fizz\n"
     ]
    }
   ],
   "source": [
    "# 3. WAP to check whether the given number is divisible by 3 or not if print fizz.\n",
    "\n",
    "num = int(input())\n",
    "if (num%3==0):\n",
    "    print(\"fizz\")\n",
    "\n"
   ]
  },
  {
   "cell_type": "code",
   "execution_count": null,
   "id": "c6b081c6",
   "metadata": {},
   "outputs": [
    {
     "name": "stdout",
     "output_type": "stream",
     "text": [
      "(36+0j)\n"
     ]
    }
   ],
   "source": [
    "# 4. WAP to check whether given input is divisible by 2 and 6. If the condition is\n",
    "# satisfied, convert the given number into a complex number.\n",
    "n = int(input())\n",
    "if n % 2==0 and n%6==0:\n",
    "    print(complex(n))\n",
    "\n",
    "\n",
    "\n",
    "\n",
    "\n"
   ]
  },
  {
   "cell_type": "code",
   "execution_count": null,
   "id": "b347ed0c",
   "metadata": {},
   "outputs": [
    {
     "name": "stdout",
     "output_type": "stream",
     "text": [
      "['1', '5']\n"
     ]
    }
   ],
   "source": [
    "# 5. WAP to check whether a given input is divisible by 3 or 5. If the condition is\n",
    "# satisfied, the number is converted to a list.\n",
    "num = int(input())\n",
    "if num%3==0 or num%5==0:\n",
    "    print(list(str(num)))\n",
    "\n",
    "\n",
    "\n",
    "# i/p: 30\n",
    "# o/p:[‘3’,’0’]\n",
    "\n",
    "\n"
   ]
  },
  {
   "cell_type": "code",
   "execution_count": null,
   "id": "13db8f75",
   "metadata": {},
   "outputs": [
    {
     "name": "stdout",
     "output_type": "stream",
     "text": [
      "It is multiple of 40\n"
     ]
    }
   ],
   "source": [
    "# 6. Write a program to check whether a given number is multiple of 5 or not\n",
    "\n",
    "num = int(input())\n",
    "if num% 5 == 0:\n",
    "    print(\"It is multiple of\",num)\n",
    "\n"
   ]
  },
  {
   "cell_type": "code",
   "execution_count": null,
   "id": "15228b64",
   "metadata": {},
   "outputs": [
    {
     "name": "stdout",
     "output_type": "stream",
     "text": [
      "0\n"
     ]
    }
   ],
   "source": [
    "# 7. WAP to check whether the given input is 0 or not if 0 prints 0.\n",
    "num = int(input())\n",
    "if num == 0:\n",
    "    print(num)\n",
    "\n",
    "\n",
    "\n",
    "\n",
    "\n"
   ]
  },
  {
   "cell_type": "code",
   "execution_count": null,
   "id": "db5e90a8",
   "metadata": {},
   "outputs": [
    {
     "name": "stdout",
     "output_type": "stream",
     "text": [
      "negative\n"
     ]
    }
   ],
   "source": [
    "# 8. WAP to check whether a number is negative. If negative, print a message negative.\n",
    "num = int(input())\n",
    "if num<0:\n",
    "    print(\"negative\")\n",
    "\n",
    "\n",
    "\n",
    "\n"
   ]
  },
  {
   "cell_type": "code",
   "execution_count": 22,
   "id": "0c088150",
   "metadata": {},
   "outputs": [
    {
     "name": "stdout",
     "output_type": "stream",
     "text": [
      "[26]\n"
     ]
    }
   ],
   "source": [
    "# 9. WAP to check whether a number is even or not. If even, store the value inside the\n",
    "# list.\n",
    "num = int(input())\n",
    "if num % 2 == 0:\n",
    "    result = [num]\n",
    "    print(result)"
   ]
  },
  {
   "cell_type": "code",
   "execution_count": null,
   "id": "8a4b992c",
   "metadata": {},
   "outputs": [
    {
     "name": "stdout",
     "output_type": "stream",
     "text": [
      "(67,) <class 'tuple'>\n"
     ]
    }
   ],
   "source": [
    "# 10. WAP to check whether a number is odd or not. If odd, store the value inside the\n",
    "# tuple.\n",
    "num = int(input())\n",
    "if num % 2 != 0:\n",
    "    result = (num,)\n",
    "    print(result,type(result))\n",
    "\n",
    "\n",
    "\n",
    "\n",
    "\n",
    "\n",
    "\n",
    "\n"
   ]
  },
  {
   "cell_type": "code",
   "execution_count": null,
   "id": "d4b955ec",
   "metadata": {},
   "outputs": [
    {
     "name": "stdout",
     "output_type": "stream",
     "text": [
      "4096\n"
     ]
    }
   ],
   "source": [
    "\n",
    "# 11. WAP to check if the given number is even or not. if it is yes, to print the power of 4 in a given number.\n",
    "num = int(input())\n",
    "if num % 2 == 0:\n",
    "    print(num**4)\n",
    "\n",
    "\n",
    "\n",
    "\n"
   ]
  },
  {
   "cell_type": "code",
   "execution_count": null,
   "id": "fc54438f",
   "metadata": {},
   "outputs": [],
   "source": []
  },
  {
   "cell_type": "code",
   "execution_count": 51,
   "id": "a53f6982",
   "metadata": {},
   "outputs": [
    {
     "name": "stdout",
     "output_type": "stream",
     "text": [
      "<class 'int'>\n",
      "12\n"
     ]
    }
   ],
   "source": [
    "# # 12. WAP to take the input from the user as a number and check whether it is a number\n",
    "# # or not. if yes. take the number and add some value and print it.\n",
    "num1 =eval(input())\n",
    "if type(num1)==int:\n",
    "    print(type(num))\n",
    "    print(int(input(\"enter adding number\"))+num1)"
   ]
  },
  {
   "cell_type": "code",
   "execution_count": null,
   "id": "86c57d29",
   "metadata": {},
   "outputs": [
    {
     "name": "stdout",
     "output_type": "stream",
     "text": [
      "1225\n"
     ]
    }
   ],
   "source": [
    "# 13. WAP to check whether a given value is divisible by 5 and 7. If the value is\n",
    "# divisible,to display the square of the values.\n",
    "num = int(input())\n",
    "if num%5==0 and num%7==0:\n",
    "    print(num**2)\n",
    "\n",
    "\n",
    "\n"
   ]
  },
  {
   "cell_type": "code",
   "execution_count": null,
   "id": "61799a5f",
   "metadata": {},
   "outputs": [
    {
     "name": "stdout",
     "output_type": "stream",
     "text": [
      "1\n"
     ]
    }
   ],
   "source": [
    "# 14. WAP to check whether the given value's last digit is greater than 5 or not.if greater,to perform the bitwise right shift operator (skipping value is 2)\n",
    "num = int(input())\n",
    "last_d = num % 10 \n",
    "if last_d > 5:\n",
    "    print(num>>2)\n",
    "\n",
    "\n"
   ]
  },
  {
   "cell_type": "code",
   "execution_count": null,
   "id": "1fb9e254",
   "metadata": {},
   "outputs": [
    {
     "name": "stdout",
     "output_type": "stream",
     "text": [
      "729\n"
     ]
    }
   ],
   "source": [
    "# 15. WAP to check whether a given value is divisible by 3 and less than 30. If the value is divisible,to display the square of the values.\n",
    "num = int(input())\n",
    "if num % 3 == 0 and num < 30:\n",
    "    print(num**2)\n",
    "\n"
   ]
  },
  {
   "cell_type": "code",
   "execution_count": null,
   "id": "4e3c6790",
   "metadata": {},
   "outputs": [
    {
     "name": "stdout",
     "output_type": "stream",
     "text": [
      "46656\n"
     ]
    }
   ],
   "source": [
    "# 16. WAP to check whether a given value is an even number and divisible by 4. If\n",
    "# satisfied ,to display the cube of the values.\n",
    "num = int(input())\n",
    "if num%2==0 and num%4==0:\n",
    "    print(num**3)\n",
    "\n"
   ]
  },
  {
   "cell_type": "code",
   "execution_count": null,
   "id": "9859d0ce",
   "metadata": {},
   "outputs": [
    {
     "name": "stdout",
     "output_type": "stream",
     "text": [
      "[56] <class 'list'> 56\n"
     ]
    }
   ],
   "source": [
    "# 17. WAP to check whether a given value is even or not. If the even number stores the\n",
    "# value inside the list.\n",
    "num = int(input())\n",
    "if num % 2==0:\n",
    "    result = [num]\n",
    "    print(result,type(result),num)\n",
    "\n"
   ]
  },
  {
   "cell_type": "code",
   "execution_count": null,
   "id": "5cb52171",
   "metadata": {},
   "outputs": [
    {
     "name": "stdout",
     "output_type": "stream",
     "text": [
      "1\n"
     ]
    }
   ],
   "source": [
    "# 18. WAP to check whether a given value is a negative or even number. If satisfied ,to\n",
    "# display the last digit of the values.\n",
    "num = int(input())\n",
    "if num%2==0 or num<0:\n",
    "    last_d = abs(num%10)\n",
    "    print(last_d)\n",
    "\n"
   ]
  },
  {
   "cell_type": "code",
   "execution_count": null,
   "id": "9c5c0855",
   "metadata": {},
   "outputs": [
    {
     "name": "stdout",
     "output_type": "stream",
     "text": [
      "729\n"
     ]
    }
   ],
   "source": [
    "# 19. WAP to check whether a given value is a negative or odd number and divisible by 4.\n",
    "# If satisfied ,to display the cube of the values.\n",
    "num = int(input())\n",
    "if num<0 or num%4==0:\n",
    "    print(abs(num**3))\n",
    "\n",
    "\n",
    "\n"
   ]
  },
  {
   "cell_type": "code",
   "execution_count": null,
   "id": "57dbabb3",
   "metadata": {},
   "outputs": [
    {
     "name": "stdout",
     "output_type": "stream",
     "text": [
      "h 104\n"
     ]
    }
   ],
   "source": [
    "# 20. WAP to check whether a given ascii value is divisible by 4 and even value. If\n",
    "# satisfied, to display the ascii character.\n",
    "ch = input()\n",
    "ascii = ord(ch)\n",
    "if ascii%4==0 and ascii%2==0:\n",
    "    print(ch,ascii)\n",
    "\n",
    "\n",
    "\n",
    "\n",
    "\n"
   ]
  },
  {
   "cell_type": "code",
   "execution_count": null,
   "id": "0dcd1de9",
   "metadata": {},
   "outputs": [],
   "source": [
    "# 21. WAP to check whether a given value is present in between 45 to 125 and the number\n",
    "# should be divisible by 4 and 5 and even value. If satisfied, to display the ascii\n",
    "# character.\n",
    "num = int(input())\n",
    "bw = 45<= num<=125 and num%4==0 and num%5==0 \n",
    "if bw and num%2==0:\n",
    "    print(ord(num))\n",
    "\n",
    "\n",
    "\n",
    "\n",
    "\n",
    "\n"
   ]
  },
  {
   "cell_type": "code",
   "execution_count": 88,
   "id": "fd45c29d",
   "metadata": {},
   "outputs": [
    {
     "name": "stdout",
     "output_type": "stream",
     "text": [
      "300\n"
     ]
    }
   ],
   "source": [
    "# 22. WAP to check whether a given value is present in between 25 to 100 and the number\n",
    "# should be divisible by 4 and 5. If satisfied, to display multiplication of given value\n",
    "# with 5.\n",
    "num = int(input())\n",
    "bw = 25<= num<= 100\n",
    "div_4 = num%4==0 and num%5==0\n",
    "if bw and div_4:\n",
    "    print(num*5)"
   ]
  },
  {
   "cell_type": "code",
   "execution_count": null,
   "id": "c78e10f8",
   "metadata": {},
   "outputs": [
    {
     "name": "stdout",
     "output_type": "stream",
     "text": [
      "2\n"
     ]
    }
   ],
   "source": [
    "# 23. WAP to check whether a given number is an integer and odd number. If the\n",
    "# condition is satisfied, the integer is divisible by 5 and displays the result.\n",
    "num = eval(input())\n",
    "if type(num)==int and num%2!=0:\n",
    "    print(num%5)\n",
    "\n",
    "\n",
    "\n"
   ]
  },
  {
   "cell_type": "code",
   "execution_count": null,
   "id": "3e82d2b4",
   "metadata": {},
   "outputs": [
    {
     "name": "stdout",
     "output_type": "stream",
     "text": [
      "89 <class 'str'>\n"
     ]
    }
   ],
   "source": [
    "# 24. WAP to check whether a given value is an integer or not. If integer, the given value\n",
    "# is converted to string and displays the result.\n",
    "va = int(input())\n",
    "if type(va)==int:\n",
    "    print(str(va),type(str(va)))\n",
    "\n",
    "\n"
   ]
  },
  {
   "cell_type": "code",
   "execution_count": 106,
   "id": "f0f063c3",
   "metadata": {},
   "outputs": [
    {
     "name": "stdout",
     "output_type": "stream",
     "text": [
      "e\n"
     ]
    }
   ],
   "source": [
    "# 25. WAP to check whether a given value is less than 125 and greater than 60 or not. If\n",
    "# the condition is satisfied, take the name and extract the middle character and\n",
    "# display it.\n",
    "va = int(input())\n",
    "if 60<=va<=125:\n",
    "    name = input()\n",
    "    mid = len(name)//2\n",
    "    res = name[mid]\n",
    "    print(res)"
   ]
  },
  {
   "cell_type": "code",
   "execution_count": null,
   "id": "8d85a461",
   "metadata": {},
   "outputs": [
    {
     "name": "stdout",
     "output_type": "stream",
     "text": [
      "not equal\n"
     ]
    }
   ],
   "source": [
    "# 26. WAP to check whether a given two integers are equal or not. If both are equal, to\n",
    "# perform addition and display the result.\n",
    "a = int(input())\n",
    "b = int(input())\n",
    "if a ==b:\n",
    "    print(a +b)\n",
    "else:\n",
    "    print(\"not equal\")\n",
    "\n",
    "\n",
    "\n",
    "\n"
   ]
  },
  {
   "cell_type": "code",
   "execution_count": null,
   "id": "00fefb9e",
   "metadata": {},
   "outputs": [
    {
     "name": "stdout",
     "output_type": "stream",
     "text": [
      "81\n",
      "0\n"
     ]
    }
   ],
   "source": [
    "# 27. WAP to check whether two values are equal or not. if equal, to perform\n",
    "# multiplication of two numbers and that result is division by 3 and display the value.\n",
    "a = int(input())\n",
    "b = int(input())\n",
    "if a==b:\n",
    "    res = a*b\n",
    "    print(res)\n",
    "    res2 = res%3\n",
    "    print(res2)\n",
    "\n",
    "\n",
    "\n"
   ]
  },
  {
   "cell_type": "code",
   "execution_count": 119,
   "id": "c02b59fb",
   "metadata": {},
   "outputs": [
    {
     "name": "stdout",
     "output_type": "stream",
     "text": [
      "{'a': 97}\n"
     ]
    }
   ],
   "source": [
    "# 28. WAP to check whether a character is in the alphabet or not. If the alphabet, store the\n",
    "# value inside the dict(key as a character and value as an ascii value).\n",
    "ch = input()\n",
    "if 'a'<=ch<='z' or 'A'<=ch<='Z':\n",
    "    d = {ch:ord(ch)}\n",
    "    print(d)\n",
    "\n"
   ]
  },
  {
   "cell_type": "code",
   "execution_count": 117,
   "id": "88d0825d",
   "metadata": {},
   "outputs": [
    {
     "name": "stdout",
     "output_type": "stream",
     "text": [
      "{'A': 65}\n"
     ]
    }
   ],
   "source": [
    "# 29. WAP to check whether a character is in the uppercase or not. If the uppercase, store\n",
    "# the value inside the dict(key as a character and value as an ascii value).\n",
    "ch = input()\n",
    "if 'A'<=ch<='Z':\n",
    "    d = {ch:ord(ch)}\n",
    "    print(d)\n",
    "\n"
   ]
  },
  {
   "cell_type": "code",
   "execution_count": 126,
   "id": "828bfaba",
   "metadata": {},
   "outputs": [
    {
     "name": "stdout",
     "output_type": "stream",
     "text": [
      "{'a': 65}\n"
     ]
    }
   ],
   "source": [
    "# 30. WAP to check whether a character is in the uppercase or not. If the uppercase,\n",
    "# convert to lowercase and store the value inside the dict(character as a key and ascii\n",
    "# value as a value).\n",
    "ch = input()\n",
    "if 'A'<= ch<='Z':\n",
    "    d = {chr(ord(ch)+32):ord(ch)}\n",
    "    print(d)"
   ]
  },
  {
   "cell_type": "code",
   "execution_count": 127,
   "id": "e998297a",
   "metadata": {},
   "outputs": [],
   "source": [
    "# 31. WAP to check whether a character is in the lowercase or not. If the lowercase, to\n",
    "# perform the replication operation on that character.\n",
    "\n",
    "# 32. WAP to check whether a character is in the ascii number or not. If the ascii number,\n",
    "# to convert into integer.\n",
    "\n",
    "# 33. WAP to check whether a character is in the special symbol or not. If the special\n",
    "# symbol, to display a symbol with ascii value.\n",
    "\n",
    "# 34. WAP to check whether a character is an even number or not. If the even number, to\n",
    "# display an even number.\n",
    "\n",
    "# 35. WAP to check whether a Given two integers a and b, if any of the integers is 10 or if\n",
    "# their sum is 10, to perform the sum of the numbers and to display the square of the\n",
    "# result.\n"
   ]
  },
  {
   "cell_type": "code",
   "execution_count": 132,
   "id": "b0fd80dd",
   "metadata": {},
   "outputs": [
    {
     "name": "stdout",
     "output_type": "stream",
     "text": [
      "[10, 200, 300, ['mango', 'banana', 'orange'], ('hyderabad', 'mysore', 'banglore')]\n",
      "('banglore', 'mysore', 'hyderabad')\n",
      "['mango', 'banana', 'orange'] ('banglore', 'mysore', 'hyderabad')\n"
     ]
    }
   ],
   "source": [
    "#slicing\n",
    "l=[10,200,300,['mango','banana','orange'],('hyderabad','mysore','banglore')]\n",
    "print(l[:])\n",
    "print(l[-1][ : :-1])\n",
    "print(l[3],l[-1][::-1])\n",
    "   "
   ]
  },
  {
   "cell_type": "code",
   "execution_count": 185,
   "id": "33a45ba1",
   "metadata": {},
   "outputs": [
    {
     "name": "stdout",
     "output_type": "stream",
     "text": [
      "eca\n",
      "fd\n",
      "abc\n",
      "[40, 20]\n",
      "plane\n",
      "pl\n",
      "tr\n",
      "[10, 30]\n",
      "epn\n"
     ]
    }
   ],
   "source": [
    "l=[{'n':['abcdef','pqrstuv'],'0':('aeroplane')},[10,20,30,40]]\n",
    "# print(l[:])\n",
    "# print(l[1])\n",
    "\n",
    "print(l[0]['n'][0][-2: :-2])\n",
    "print(l[0]['n'][0][-1:-4:-2])\n",
    "print(l[0]['n'][0][:3])\n",
    "print(l[-1][-1::-2])\n",
    "print(l[0]['0'][4:])\n",
    "print(l[0]['0'][4:6])\n",
    "print(l[0]['n'][1][-3:-6:-2])\n",
    "print(l[1][::2])\n",
    "print(l[0]['0'][1: :3])\n"
   ]
  },
  {
   "cell_type": "code",
   "execution_count": null,
   "id": "d05faa0d",
   "metadata": {},
   "outputs": [],
   "source": []
  }
 ],
 "metadata": {
  "kernelspec": {
   "display_name": "Python 3",
   "language": "python",
   "name": "python3"
  },
  "language_info": {
   "codemirror_mode": {
    "name": "ipython",
    "version": 3
   },
   "file_extension": ".py",
   "mimetype": "text/x-python",
   "name": "python",
   "nbconvert_exporter": "python",
   "pygments_lexer": "ipython3",
   "version": "3.13.5"
  }
 },
 "nbformat": 4,
 "nbformat_minor": 5
}
